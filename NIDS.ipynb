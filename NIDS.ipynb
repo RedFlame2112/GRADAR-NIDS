{
  "cells": [
    {
      "cell_type": "code",
      "execution_count": null,
      "metadata": {
        "colab": {
          "base_uri": "https://localhost:8080/"
        },
        "id": "JdgNL1SDia6w",
        "outputId": "29b5c1be-c6c9-4369-d15c-beb2245c4d9f"
      },
      "outputs": [
        {
          "name": "stdout",
          "output_type": "stream",
          "text": [
            "Mounted at /content/drive/\n"
          ]
        }
      ],
      "source": [
        "from google.colab import drive\n",
        "drive.mount('/content/drive/')"
      ]
    },
    {
      "cell_type": "code",
      "execution_count": null,
      "metadata": {
        "id": "PbbhQbqtKEJc"
      },
      "outputs": [],
      "source": [
        "!pip install -q tensorflow-model-optimization"
      ]
    },
    {
      "cell_type": "code",
      "execution_count": 8,
      "metadata": {
        "id": "bOgAPQsfY6E5"
      },
      "outputs": [],
      "source": [
        "import numpy as np\n",
        "import pandas as pd\n",
        "import matplotlib.pyplot as plt\n",
        "import itertools\n",
        "\n",
        "from sklearn.model_selection import train_test_split\n",
        "from sklearn.preprocessing import MinMaxScaler\n",
        "from sklearn.metrics import classification_report, confusion_matrix\n",
        "\n",
        "\n",
        "\n",
        "import dask.dataframe as dd\n",
        "import csv\n",
        "\n",
        "import tensorflow as tf\n",
        "import tensorflow.lite as tflite\n",
        "import tensorflow_model_optimization as tfmot\n",
        "from keras.preprocessing import sequence\n",
        "from keras.utils import np_utils\n",
        "from keras.models import Sequential\n",
        "from keras.layers import Dense, Dropout, Activation, Embedding, LSTM, SpatialDropout1D, Reshape, \\\n",
        "                         Conv2D, MaxPool2D, BatchNormalization, Flatten, Dense\n",
        "from keras.datasets import imdb\n",
        "from keras.utils.np_utils import to_categorical\n",
        "from sklearn.metrics import (precision_score, recall_score,\n",
        "                             f1_score, accuracy_score,mean_squared_error,mean_absolute_error)\n",
        "\n",
        "from sklearn import metrics\n",
        "from sklearn.preprocessing import Normalizer\n",
        "\n",
        "from keras import callbacks\n",
        "from keras.callbacks import CSVLogger\n",
        "from tensorflow.python.keras import backend as K"
      ]
    },
    {
      "cell_type": "code",
      "execution_count": null,
      "metadata": {
        "id": "iXsOrkyuZMzH"
      },
      "outputs": [],
      "source": [
        "# import os\n",
        "# os.kill(os.getpid(), 9)"
      ]
    },
    {
      "cell_type": "code",
      "execution_count": null,
      "metadata": {
        "id": "IyfZhFeuL8ok"
      },
      "outputs": [],
      "source": [
        "y_train = np.load('drive/MyDrive/Colab Notebooks/y_train_b.npy')\n",
        "X_test = np.load('drive/MyDrive/Colab Notebooks/X_test_b.npy')\n",
        "y_test = np.load('drive/MyDrive/Colab Notebooks/y_test_b.npy')\n",
        "X_train = np.load('drive/MyDrive/Colab Notebooks/X_train_b.npy')"
      ]
    },
    {
      "cell_type": "code",
      "execution_count": null,
      "metadata": {
        "colab": {
          "base_uri": "https://localhost:8080/"
        },
        "id": "e1D0A1HTDH7h",
        "outputId": "75e402b6-1623-4636-8596-3ac2640bde97"
      },
      "outputs": [
        {
          "name": "stdout",
          "output_type": "stream",
          "text": [
            "(609500, 77)\n",
            "(152376, 77)\n",
            "[[2.85112400e+06 1.51940347e+09 3.85040000e+06 ... 0.00000000e+00\n",
            "  0.00000000e+00 0.00000000e+00]\n",
            " [4.26551100e+06 1.51939834e+09 5.66918220e+07 ... 0.00000000e+00\n",
            "  0.00000000e+00 0.00000000e+00]\n",
            " [3.80904600e+06 1.51876728e+09 4.36062600e+06 ... 0.00000000e+00\n",
            "  0.00000000e+00 0.00000000e+00]\n",
            " ...\n",
            " [3.89574000e+05 1.51863011e+09 6.04345890e+07 ... 9.99197733e+06\n",
            "  2.87720153e+04 1.00038290e+07]\n",
            " [1.29854000e+05 1.51862992e+09 2.00000000e+00 ... 0.00000000e+00\n",
            "  0.00000000e+00 0.00000000e+00]\n",
            " [1.88339300e+06 1.51998297e+09 1.18235757e+08 ... 0.00000000e+00\n",
            "  0.00000000e+00 0.00000000e+00]]\n"
          ]
        }
      ],
      "source": [
        "X_train = np.delete(X_train, 2, axis=1)\n",
        "X_test = np.delete(X_test, 2, axis=1)\n",
        "X_train = np.delete(X_train, 1, axis=1)\n",
        "X_test = np.delete(X_test, 1, axis=1)\n",
        "X_train = np.delete(X_train, -1, axis=1)\n",
        "X_test = np.delete(X_test, -1, axis=1)\n",
        "\n",
        "print(X_train.shape)\n",
        "print(X_test.shape)\n",
        "print(X_train)"
      ]
    },
    {
      "cell_type": "code",
      "execution_count": null,
      "metadata": {
        "colab": {
          "base_uri": "https://localhost:8080/"
        },
        "id": "S2aHC-tPQhHv",
        "outputId": "fb37a9f1-e54b-49f8-fa2e-8eb6207a7324"
      },
      "outputs": [
        {
          "name": "stdout",
          "output_type": "stream",
          "text": [
            "(609500, 77)\n",
            "(152376, 77)\n"
          ]
        }
      ],
      "source": [
        "## minmax scale the arrays\n",
        "scaler = MinMaxScaler()\n",
        "X_train = scaler.fit_transform(X_train)\n",
        "X_test = scaler.fit_transform(X_test)\n",
        "\n",
        "print(X_train.shape)\n",
        "print(X_test.shape)"
      ]
    },
    {
      "cell_type": "code",
      "execution_count": null,
      "metadata": {
        "colab": {
          "base_uri": "https://localhost:8080/"
        },
        "id": "ExVn4BVqVOAx",
        "outputId": "4c38739b-967f-4fb2-dd0b-9ad00f680914"
      },
      "outputs": [
        {
          "name": "stdout",
          "output_type": "stream",
          "text": [
            "(609500, 1, 77)\n",
            "(152376, 1, 77)\n"
          ]
        }
      ],
      "source": [
        "X_train = X_train.reshape(609500,1,77).astype(np.float32)\n",
        "X_test = X_test.reshape(152376,1,77).astype(np.float32)\n",
        "print(X_train.shape)\n",
        "print(X_test.shape)"
      ]
    },
    {
      "cell_type": "code",
      "execution_count": null,
      "metadata": {
        "colab": {
          "base_uri": "https://localhost:8080/"
        },
        "id": "dl4DxrtGeDbX",
        "outputId": "e1497c8f-64be-4af2-f67b-8518030d9126"
      },
      "outputs": [
        {
          "name": "stdout",
          "output_type": "stream",
          "text": [
            "Found GPU at: /device:GPU:0\n"
          ]
        }
      ],
      "source": [
        "### Initialize device\n",
        "device = tf.test.gpu_device_name()\n",
        "print('Found GPU at: {}'.format(device))\n"
      ]
    },
    {
      "cell_type": "code",
      "execution_count": null,
      "metadata": {
        "colab": {
          "base_uri": "https://localhost:8080/"
        },
        "id": "KFxe60StJh-e",
        "outputId": "8bc976d9-8931-49fb-cc1e-065d48c40c56"
      },
      "outputs": [
        {
          "data": {
            "text/plain": [
              "['/device:GPU:0']"
            ]
          },
          "execution_count": 36,
          "metadata": {},
          "output_type": "execute_result"
        }
      ],
      "source": [
        "from keras import backend as K\n",
        "K._get_available_gpus()"
      ]
    },
    {
      "cell_type": "code",
      "execution_count": null,
      "metadata": {
        "colab": {
          "base_uri": "https://localhost:8080/"
        },
        "id": "Xd4YJGyl4HAg",
        "outputId": "ca77e1a5-14d3-4af2-a8a2-b91a0c918f71"
      },
      "outputs": [
        {
          "name": "stdout",
          "output_type": "stream",
          "text": [
            "Model: \"sequential_8\"\n",
            "_________________________________________________________________\n",
            " Layer (type)                Output Shape              Param #   \n",
            "=================================================================\n",
            " lstm_16 (LSTM)              (None, 1, 50)             25600     \n",
            "                                                                 \n",
            " dropout_16 (Dropout)        (None, 1, 50)             0         \n",
            "                                                                 \n",
            " lstm_17 (LSTM)              (None, 1, 100)            60400     \n",
            "                                                                 \n",
            " dropout_17 (Dropout)        (None, 1, 100)            0         \n",
            "                                                                 \n",
            " reshape_8 (Reshape)         (None, 25, 4, 1)          0         \n",
            "                                                                 \n",
            " quantize_annotate_15 (Quant  (None, 25, 4, 50)        100       \n",
            " izeAnnotate)                                                    \n",
            "                                                                 \n",
            " quantize_annotate_16 (Quant  (None, 25, 4, 50)        200       \n",
            " izeAnnotate)                                                    \n",
            "                                                                 \n",
            " quantize_annotate_17 (Quant  (None, 12, 2, 50)        0         \n",
            " izeAnnotate)                                                    \n",
            "                                                                 \n",
            " quantize_annotate_18 (Quant  (None, 12, 2, 90)        4590      \n",
            " izeAnnotate)                                                    \n",
            "                                                                 \n",
            " quantize_annotate_19 (Quant  (None, 12, 2, 90)        360       \n",
            " izeAnnotate)                                                    \n",
            "                                                                 \n",
            " quantize_annotate_20 (Quant  (None, 6, 1, 90)         0         \n",
            " izeAnnotate)                                                    \n",
            "                                                                 \n",
            " quantize_annotate_21 (Quant  (None, 540)              0         \n",
            " izeAnnotate)                                                    \n",
            "                                                                 \n",
            " quantize_annotate_22 (Quant  (None, 192)              103872    \n",
            " izeAnnotate)                                                    \n",
            "                                                                 \n",
            " quantize_annotate_23 (Quant  (None, 32)               6176      \n",
            " izeAnnotate)                                                    \n",
            "                                                                 \n",
            " quantize_annotate_24 (Quant  (None, 1)                33        \n",
            " izeAnnotate)                                                    \n",
            "                                                                 \n",
            "=================================================================\n",
            "Total params: 201,331\n",
            "Trainable params: 201,051\n",
            "Non-trainable params: 280\n",
            "_________________________________________________________________\n"
          ]
        }
      ],
      "source": [
        "##### Keras LSTM model (100, 50 encoder scheme)\n",
        "batch_size = 64\n",
        "\n",
        "GRADAR = Sequential([\n",
        "    LSTM(50,input_shape=(1, 77), return_sequences= True),\n",
        "    Dropout(0.10),\n",
        "    LSTM(100, return_sequences=True),\n",
        "    Dropout(0.05),\n",
        "    Reshape((25,4,1)),\n",
        "    tfmot.quantization.keras.quantize_annotate_layer(Conv2D(50, 1, activation='relu')),\n",
        "    tfmot.quantization.keras.quantize_annotate_layer(BatchNormalization()),\n",
        "    tfmot.quantization.keras.quantize_annotate_layer(MaxPool2D(pool_size=2)),\n",
        "    tfmot.quantization.keras.quantize_annotate_layer(Conv2D(90, 1, activation='relu')),\n",
        "    tfmot.quantization.keras.quantize_annotate_layer(BatchNormalization()),\n",
        "    tfmot.quantization.keras.quantize_annotate_layer(MaxPool2D(pool_size=2)),\n",
        "    tfmot.quantization.keras.quantize_annotate_layer(Flatten()),\n",
        "    tfmot.quantization.keras.quantize_annotate_layer(Dense(192, activation='relu')),\n",
        "    tfmot.quantization.keras.quantize_annotate_layer(Dense(32, activation='relu')),\n",
        "    tfmot.quantization.keras.quantize_annotate_layer(Dense(1, activation='sigmoid'))\n",
        "])\n",
        "\n",
        "GRADAR.summary()"
      ]
    },
    {
      "cell_type": "code",
      "execution_count": null,
      "metadata": {
        "colab": {
          "base_uri": "https://localhost:8080/",
          "height": 36
        },
        "id": "kPIRbKpAMLWY",
        "outputId": "2036b7c8-330f-4826-d62e-65412e279ef6"
      },
      "outputs": [
        {
          "data": {
            "application/vnd.google.colaboratory.intrinsic+json": {
              "type": "string"
            },
            "text/plain": [
              "'/device:GPU:0'"
            ]
          },
          "execution_count": 56,
          "metadata": {},
          "output_type": "execute_result"
        }
      ],
      "source": [
        "strategy = tf.distribute.MirroredStrategy(devices=[device])\n",
        "device"
      ]
    },
    {
      "cell_type": "code",
      "execution_count": null,
      "metadata": {
        "colab": {
          "base_uri": "https://localhost:8080/"
        },
        "id": "iOSHxLtpUwWq",
        "outputId": "cdc865c4-a700-4142-eab8-90426a12c4d7"
      },
      "outputs": [
        {
          "name": "stdout",
          "output_type": "stream",
          "text": [
            "Epoch 1/10\n",
            "9524/9524 [==============================] - 75s 7ms/step - loss: 0.1573 - accuracy: 0.9458 - val_loss: 0.0811 - val_accuracy: 0.9741\n",
            "Epoch 2/10\n",
            "9524/9524 [==============================] - 69s 7ms/step - loss: 0.0767 - accuracy: 0.9727 - val_loss: 0.0579 - val_accuracy: 0.9802\n",
            "Epoch 3/10\n",
            "9524/9524 [==============================] - 69s 7ms/step - loss: 0.0637 - accuracy: 0.9773 - val_loss: 0.0522 - val_accuracy: 0.9822\n",
            "Epoch 4/10\n",
            "9524/9524 [==============================] - 69s 7ms/step - loss: 0.0589 - accuracy: 0.9789 - val_loss: 0.0514 - val_accuracy: 0.9824\n",
            "Epoch 5/10\n",
            "9524/9524 [==============================] - 69s 7ms/step - loss: 0.0556 - accuracy: 0.9800 - val_loss: 0.0482 - val_accuracy: 0.9836\n",
            "Epoch 6/10\n",
            "9524/9524 [==============================] - 70s 7ms/step - loss: 0.0535 - accuracy: 0.9807 - val_loss: 0.0494 - val_accuracy: 0.9827\n",
            "Epoch 7/10\n",
            "9524/9524 [==============================] - 70s 7ms/step - loss: 0.0520 - accuracy: 0.9813 - val_loss: 0.0516 - val_accuracy: 0.9803\n",
            "Epoch 8/10\n",
            "9524/9524 [==============================] - 69s 7ms/step - loss: 0.0505 - accuracy: 0.9817 - val_loss: 0.0466 - val_accuracy: 0.9816\n",
            "Epoch 9/10\n",
            "9524/9524 [==============================] - 69s 7ms/step - loss: 0.0494 - accuracy: 0.9821 - val_loss: 0.0460 - val_accuracy: 0.9835\n",
            "Epoch 10/10\n",
            "9524/9524 [==============================] - 69s 7ms/step - loss: 0.0487 - accuracy: 0.9823 - val_loss: 0.0498 - val_accuracy: 0.9792\n"
          ]
        }
      ],
      "source": [
        "with tf.device(device):\n",
        "  optimizer = tf.keras.optimizers.SGD(learning_rate=0.001)\n",
        "  GRADAR.compile(loss='binary_crossentropy',\n",
        "                  optimizer=optimizer,\n",
        "                  metrics=['accuracy'])\n",
        "  hist = GRADAR.fit(X_train, y_train, batch_size=batch_size, epochs=10, validation_data=(X_test, y_test))"
      ]
    },
    {
      "cell_type": "code",
      "execution_count": null,
      "metadata": {
        "colab": {
          "base_uri": "https://localhost:8080/"
        },
        "id": "Fk3K2_Hro_jv",
        "outputId": "142142e0-7f66-4d16-dae1-1176038d4999"
      },
      "outputs": [
        {
          "name": "stderr",
          "output_type": "stream",
          "text": [
            "WARNING:absl:Found untraced functions such as lstm_cell_20_layer_call_fn, lstm_cell_20_layer_call_and_return_conditional_losses, lstm_cell_21_layer_call_fn, lstm_cell_21_layer_call_and_return_conditional_losses, conv2d_16_layer_call_fn while saving (showing 5 of 18). These functions will not be directly callable after loading.\n"
          ]
        }
      ],
      "source": [
        "GRADAR.save('GRADAR', save_format='tf')"
      ]
    },
    {
      "cell_type": "markdown",
      "metadata": {
        "id": "4FkFpNeQQJN8"
      },
      "source": [
        "# Confusion Matrix\n",
        "\n",
        "the confusion matrix is an essential part in finding out just how well the classifier engine has worked."
      ]
    },
    {
      "cell_type": "code",
      "execution_count": 132,
      "metadata": {
        "colab": {
          "base_uri": "https://localhost:8080/"
        },
        "id": "5zEKzxEsQTiH",
        "outputId": "31b54b77-4280-4e2b-df5a-822821ad6931"
      },
      "outputs": [
        {
          "name": "stdout",
          "output_type": "stream",
          "text": [
            "4762/4762 [==============================] - 11s 2ms/step\n"
          ]
        }
      ],
      "source": [
        "y_pred = GRADAR.predict(X_test)"
      ]
    },
    {
      "cell_type": "code",
      "execution_count": 133,
      "metadata": {
        "colab": {
          "base_uri": "https://localhost:8080/"
        },
        "id": "WFtsCZINTMub",
        "outputId": "d37a0abe-aa6c-4b2e-aab8-6888009be92e"
      },
      "outputs": [
        {
          "data": {
            "text/plain": [
              "array([[1.],\n",
              "       [1.],\n",
              "       [1.],\n",
              "       ...,\n",
              "       [1.],\n",
              "       [0.],\n",
              "       [1.]], dtype=float32)"
            ]
          },
          "execution_count": 133,
          "metadata": {},
          "output_type": "execute_result"
        }
      ],
      "source": [
        "y_pred = np.rint(y_pred)\n",
        "y_pred"
      ]
    },
    {
      "cell_type": "code",
      "execution_count": 134,
      "metadata": {
        "colab": {
          "base_uri": "https://localhost:8080/"
        },
        "id": "vLgQBbdHTe32",
        "outputId": "de40449f-24c8-49fd-dc67-4fbb357eb695"
      },
      "outputs": [
        {
          "data": {
            "text/plain": [
              "array([[74749,  1432],\n",
              "       [ 1732, 74463]])"
            ]
          },
          "execution_count": 134,
          "metadata": {},
          "output_type": "execute_result"
        }
      ],
      "source": [
        "cm = confusion_matrix(y_test, y_pred)\n",
        "cm"
      ]
    },
    {
      "cell_type": "code",
      "execution_count": null,
      "metadata": {
        "colab": {
          "base_uri": "https://localhost:8080/",
          "height": 561
        },
        "id": "eDGPT2nqTqf3",
        "outputId": "589a0d95-923e-409d-b222-0d311ee36bc8"
      },
      "outputs": [
        {
          "name": "stdout",
          "output_type": "stream",
          "text": [
            "Normalized confusion matrix\n",
            "[[0.98120266 0.01879734]\n",
            " [0.02273115 0.97726885]]\n"
          ]
        },
        {
          "data": {
            "image/png": "[encoded data removed]",
            "text/plain": [
              "<Figure size 640x480 with 2 Axes>"
            ]
          },
          "metadata": {},
          "output_type": "display_data"
        }
      ],
      "source": [
        "def plot_confusion_matrix(cm, classes, normalize=False, title='Confusion matrix', cmap=plt.cm.Blues):\n",
        "    \"\"\"\n",
        "    This function prints and plots the confusion matrix.\n",
        "    Normalization can be applied by setting `normalize=True`.\n",
        "    \"\"\"\n",
        "    if normalize:\n",
        "        cm = cm.astype('float') / cm.sum(axis=1)[:, np.newaxis]\n",
        "        print(\"Normalized confusion matrix\")\n",
        "    else:\n",
        "        print('Confusion matrix, without normalization')\n",
        "\n",
        "    print(cm)\n",
        "\n",
        "    plt.imshow(cm, interpolation='nearest', cmap=cmap)\n",
        "    plt.title(title)\n",
        "    plt.colorbar()\n",
        "    tick_marks = np.arange(len(classes))\n",
        "    plt.xticks(tick_marks, classes, rotation=45)\n",
        "    plt.yticks(tick_marks, classes)\n",
        "\n",
        "    fmt = '.2f' if normalize else 'd'\n",
        "    thresh = cm.max() / 2.\n",
        "    for i, j in itertools.product(range(cm.shape[0]), range(cm.shape[1])):\n",
        "        plt.text(j, i, format(cm[i, j], fmt),\n",
        "                 horizontalalignment=\"center\",\n",
        "                 color=\"white\" if cm[i, j] > thresh else \"black\")\n",
        "\n",
        "    plt.tight_layout()\n",
        "    plt.ylabel('True label')\n",
        "    plt.xlabel('Predicted label')\n",
        "\n",
        "class_names = ['Benign', 'Malicious']\n",
        "plt.figure()\n",
        "plot_confusion_matrix(cm=cm, classes=class_names, normalize=True, title='Confusion Matrix')\n",
        "plt.show()"
      ]
    },
    {
      "cell_type": "code",
      "execution_count": 9,
      "metadata": {},
      "outputs": [
        {
          "name": "stdout",
          "output_type": "stream",
          "text": [
            "Accuracy:  0.9792355751561925\n",
            "Precision:  0.9811318268660649\n",
            "Recall:  0.9772688496620513\n",
            "F1 Score:  0.979196528371359\n"
          ]
        }
      ],
      "source": [
        "# cm = np.array([[74749,  1432],\n",
        "#        [ 1732, 74463]])\n",
        "\n",
        "FN = cm[1][0]\n",
        "FP = cm[0][1]\n",
        "TP = cm[1][1]\n",
        "TN = cm[0][0]\n",
        "\n",
        "##Use formula for accuracy\n",
        "accuracy = (TP+TN)/(TP+TN+FP+FN)\n",
        "\n",
        "##Use formula for precision\n",
        "precision = TP/(TP+FP)\n",
        "\n",
        "##Use formula for recall\n",
        "recall = TP/(TP+FN)\n",
        "\n",
        "##Use formula for F1 score\n",
        "f1_score = 2*precision*recall/(precision+recall)\n",
        "\n",
        "print(\"Accuracy: \", accuracy)\n",
        "print(\"Precision: \", precision)\n",
        "print(\"Recall: \", recall)\n",
        "print(\"F1 Score: \", f1_score)"
      ]
    },
    {
      "cell_type": "code",
      "execution_count": null,
      "metadata": {
        "id": "aHBuT3gtVIyN"
      },
      "outputs": [],
      "source": [
        "#### Inference\n",
        "import os\n",
        "pcap_file_path = './ordered_coalesce_netcat1.pcap'\n",
        "###### From github--> network attack example\n",
        "cmd = 'cicflowmeter -f '+ pcap_file_path +' -c Example.csv'\n",
        "os.system(cmd)"
      ]
    },
    {
      "cell_type": "code",
      "execution_count": 125,
      "metadata": {
        "colab": {
          "base_uri": "https://localhost:8080/"
        },
        "id": "y0WcrzU_evp3",
        "outputId": "de6e3274-0489-427d-a13f-e8537c7c025d"
      },
      "outputs": [
        {
          "name": "stdout",
          "output_type": "stream",
          "text": [
            "(168521, 1, 77)\n",
            "(168521,)\n"
          ]
        }
      ],
      "source": [
        "df = pd.read_csv('example_labels.csv')\n",
        "df.replace([-np.inf, np.inf], np.nan, inplace=True)\n",
        "df.dropna(inplace=True)\n",
        "df[' Label'] = df[' Label'].replace({'DDoS': 1, 'BENIGN': 0})\n",
        "df_labels =  df[' Label']\n",
        "df_labels.value_counts()\n",
        "df = df.drop(' Label', axis=1)\n",
        "df = df.drop('Destination Port', axis=1)\n",
        "X = df.to_numpy()\n",
        "y = df_labels.to_numpy()\n",
        "scaler = MinMaxScaler()\n",
        "X = scaler.fit_transform(X)\n",
        "X = X.reshape(X.shape[0], 1, X.shape[1]).astype(np.float32)\n",
        "print(X.shape)\n",
        "print(y.shape)"
      ]
    },
    {
      "attachments": {},
      "cell_type": "markdown",
      "metadata": {
        "id": "Ka7GbajUqrU9"
      },
      "source": [
        "# Run Inference using GPU\n",
        "\n",
        "Example inference run on the GPU. Total prediction time is 12 seconds"
      ]
    },
    {
      "cell_type": "code",
      "execution_count": 130,
      "metadata": {
        "colab": {
          "base_uri": "https://localhost:8080/"
        },
        "id": "AOf9ygWNoUHB",
        "outputId": "ad1bfc27-3013-4a69-ae5b-88fb38447d1a"
      },
      "outputs": [
        {
          "name": "stdout",
          "output_type": "stream",
          "text": [
            "5267/5267 [==============================] - 12s 2ms/step\n",
            "True\n"
          ]
        }
      ],
      "source": [
        "###Using gpu, run inference\n",
        "with tf.device(device):\n",
        "  y_pred = GRADAR.predict(X)\n",
        "  y_pred = np.rint(y_pred)\n",
        "\n",
        "unique_values_pred, counts_pred = np.unique(y_pred, return_counts=True)\n",
        "unique_values_grnd, counts_grnd = np.unique(y, return_counts=True)\n",
        "\n",
        "max_count_index_pred = np.argmax(counts_pred)\n",
        "max_count_index_grnd = np.argmax(counts_grnd)\n",
        "majority_value_pred = unique_values_pred[max_count_index_pred]\n",
        "majority_value_grnd = unique_values_grnd[max_count_index_grnd]\n",
        "\n",
        "\n",
        "print(majority_value_pred == majority_value_grnd)"
      ]
    }
  ],
  "metadata": {
    "accelerator": "GPU",
    "colab": {
      "provenance": []
    },
    "gpuClass": "premium",
    "kernelspec": {
      "display_name": "Python 3",
      "name": "python3"
    },
    "language_info": {
      "codemirror_mode": {
        "name": "ipython",
        "version": 3
      },
      "file_extension": ".py",
      "mimetype": "text/x-python",
      "name": "python",
      "nbconvert_exporter": "python",
      "pygments_lexer": "ipython3",
      "version": "3.8.12"
    }
  },
  "nbformat": 4,
  "nbformat_minor": 0
}
